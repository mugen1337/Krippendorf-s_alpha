{
  "nbformat": 4,
  "nbformat_minor": 0,
  "metadata": {
    "colab": {
      "name": "kalpha",
      "provenance": [],
      "collapsed_sections": []
    },
    "kernelspec": {
      "name": "python3",
      "display_name": "Python 3"
    },
    "language_info": {
      "name": "python"
    }
  },
  "cells": [
    {
      "cell_type": "code",
      "source": [
        "import numpy as np"
      ],
      "metadata": {
        "id": "HwT2kh1gCqmR"
      },
      "execution_count": 2,
      "outputs": []
    },
    {
      "cell_type": "code",
      "execution_count": 54,
      "metadata": {
        "id": "A3BO7RZOApB9"
      },
      "outputs": [],
      "source": [
        "def delta_interval(u, v):\n",
        "    return (u - v) ** 2\n",
        "\n",
        "\n",
        "# array[i, j] := coder_i, unit_j\n",
        "# C : num of label\n",
        "# array[i, j] = 0, 1... , C-1, or lack\n",
        "def kalpha_interval(array, C, lack = -1):\n",
        "    o = np.zeros((C, C)) # coincidence matrices\n",
        "    M = array.shape[0]\n",
        "    U = array.shape[1]\n",
        "\n",
        "    for u in range(U):\n",
        "        cnt = 0\n",
        "        for i in range(M):\n",
        "            if array[i, u] != lack:\n",
        "                cnt += 1\n",
        "\n",
        "        if cnt <= 1:\n",
        "            continue\n",
        "        for i in range(M):\n",
        "            for j in range(M):\n",
        "                if i == j:\n",
        "                    continue\n",
        "                if array[i, u]==lack or array[j, u]==lack:\n",
        "                    continue\n",
        "                o[array[i, u], array[j, u]] += 1 / (cnt - 1)\n",
        "    \n",
        "    n = np.zeros((C, ))\n",
        "    for i in range(C):\n",
        "        for j in range(C):\n",
        "            n[i] += o[i, j]\n",
        "    nall = 0\n",
        "    for i in range(C):\n",
        "        nall += n[i]\n",
        "\n",
        "    num = 0\n",
        "    den = 0\n",
        "\n",
        "    for i in range(C):\n",
        "        for j in range(i):\n",
        "            den += ((i - j) ** 2) * n[i] * n[j]\n",
        "    den /= nall - 1\n",
        "\n",
        "    for i in range(C):\n",
        "        for j in range(i):\n",
        "            num += o[i, j] * ((i - j) ** 2)\n",
        "\n",
        "    alpha = num / den\n",
        "\n",
        "    return 1.0 - alpha            \n"
      ]
    },
    {
      "cell_type": "code",
      "source": [
        "# https://en.wikipedia.org/wiki/Krippendorff%27s_alpha\n",
        "wiki_data = [\n",
        "             [-1, -1, -1, -1, -1,  3, 4, 1, 2, 1, 1, 3, 3, -1, 3],\n",
        "             [1,  -1,  2,  1,  3,  3, 4, 3, -1, -1, -1, -1, -1, -1, -1],\n",
        "             [-1, -1, 2, 1, 3, 4, 4, -1, 2, 1, 1, 3, 3, -1, 4]\n",
        "]\n",
        "array = np.array(wiki_data) - 1\n",
        "print(\"krippendorf's alpha (interval) : {}\".format(kalpha_interval(array, 4, -2)))\n",
        "\n",
        "# OK correct"
      ],
      "metadata": {
        "colab": {
          "base_uri": "https://localhost:8080/"
        },
        "id": "n5865gC2C-oq",
        "outputId": "20b466ea-a4b0-405e-9b60-c9e90a698889"
      },
      "execution_count": 57,
      "outputs": [
        {
          "output_type": "stream",
          "name": "stdout",
          "text": [
            "krippendorf's alpha (interval) : 0.8108448928121059\n"
          ]
        }
      ]
    },
    {
      "cell_type": "code",
      "source": [
        ""
      ],
      "metadata": {
        "id": "oimdvRvkJwhI"
      },
      "execution_count": null,
      "outputs": []
    },
    {
      "cell_type": "code",
      "source": [
        "\n",
        "# personal code\n",
        "v = np.loadtxt('./valence.csv', delimiter=',', dtype='int64').transpose()\n",
        "v += 2\n",
        "\n",
        "alpha = kalpha_interval(v, 5, \"x\")\n",
        "print(\"valence\", alpha)\n",
        "\n",
        "\n",
        "a = np.loadtxt('./arousal.csv', delimiter=',', dtype='int64').transpose()\n",
        "a += 2\n",
        "\n",
        "alpha = kalpha_interval(a, 5, \"x\")\n",
        "print(\"arousal\", alpha)"
      ],
      "metadata": {
        "colab": {
          "base_uri": "https://localhost:8080/"
        },
        "id": "t335qguzMH9V",
        "outputId": "d3c343de-0fd4-4639-991f-a505c3a21f93"
      },
      "execution_count": 59,
      "outputs": [
        {
          "output_type": "stream",
          "name": "stdout",
          "text": [
            "valence 0.7807147979016492\n",
            "arousal 0.5556826122863858\n"
          ]
        }
      ]
    },
    {
      "cell_type": "code",
      "source": [
        ""
      ],
      "metadata": {
        "id": "6hjbixFsMl5s"
      },
      "execution_count": null,
      "outputs": []
    }
  ]
}